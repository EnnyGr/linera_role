{
 "cells": [
  {
   "cell_type": "markdown",
   "metadata": {},
   "source": [
    "*** A Brief insight into some JavaScript Concepts ***\n",
    "\n",
    "# Loop\n",
    "A loop is a programming construct that repeats a block of code as long as a specified condition is true. Common types include for, while, and do...while loops.\n",
    "\n",
    "Example:\n",
    "for (let i = 0; i < 5; i++) {\n",
    "    console.log(i);\n",
    "}\n",
    "\n",
    "# Function\n",
    "A function is a reusable block of code designed to perform a specific task. Functions can take inputs (parameters) and return an output.\n",
    "\n",
    "Example:\n",
    "function add(a, b) {\n",
    "    return a + b;\n",
    "}\n",
    "console.log(add(2, 3)); Output: 5\n",
    "\n",
    "# DOM Manipulation\n",
    "DOM (Document Object Model) manipulation involves using JavaScript to interact with and change the structure, content, or style of a webpage.\n",
    "\n",
    "Example:\n",
    "document.getElementById('myElement').textContent = 'Hello, World!';\n",
    "\n",
    "# Conditional Rendering\n",
    "Conditional rendering is the practice of rendering different UI elements or components based on certain conditions.\n",
    "\n",
    "Example (React):\n",
    "function Greeting(props) {\n",
    "    return props.isLoggedIn ? <h1>Welcome back!</h1> : <h1>Please sign in.</h1>;\n",
    "}\n",
    "\n",
    "# Statement\n",
    "A statement is a single line of code that performs an action. JavaScript statements include declarations, assignments, loops, conditionals, and function calls.\n",
    "\n",
    "Example:\n",
    "let x = 10; // Variable declaration and assignment\n",
    "if (x > 5) {\n",
    "    console.log('x is greater than 5'); // Conditional statement\n",
    "}\n",
    "    DYOR and browse the web for more examples and explanations of these concepts. Happy coding!\n",
    "    */"
   ]
  }
 ],
 "metadata": {
  "language_info": {
   "name": "python"
  }
 },
 "nbformat": 4,
 "nbformat_minor": 2
}
